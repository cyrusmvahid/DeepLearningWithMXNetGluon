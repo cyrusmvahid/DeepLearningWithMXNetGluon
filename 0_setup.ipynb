{
 "cells": [
  {
   "cell_type": "markdown",
   "metadata": {},
   "source": [
    "# Clone repository"
   ]
  },
  {
   "cell_type": "code",
   "execution_count": 1,
   "metadata": {},
   "outputs": [
    {
     "name": "stdout",
     "output_type": "stream",
     "text": [
      "Cloning into 'DeepLearningWithMXNetGluon'...\n",
      "remote: Enumerating objects: 108, done.\u001b[K\n",
      "remote: Total 108 (delta 0), reused 0 (delta 0), pack-reused 108\u001b[K\n",
      "Receiving objects: 100% (108/108), 49.39 MiB | 55.58 MiB/s, done.\n",
      "Resolving deltas: 100% (35/35), done.\n"
     ]
    }
   ],
   "source": [
    "!git clone https://github.com/thomelane/DeepLearningWithMXNetGluon.git"
   ]
  },
  {
   "cell_type": "markdown",
   "metadata": {},
   "source": [
    "# Upgrade MXNet (if using AWS SageMaker or AWS EC2 DLAMI)"
   ]
  },
  {
   "cell_type": "markdown",
   "metadata": {},
   "source": [
    "### Find MXNet package installed in `mxnet_p36` environment"
   ]
  },
  {
   "cell_type": "code",
   "execution_count": 4,
   "metadata": {},
   "outputs": [
    {
     "name": "stdout",
     "output_type": "stream",
     "text": [
      "\u001b[33mYou are using pip version 10.0.1, however version 18.0 is available.\r\n",
      "You should consider upgrading via the 'pip install --upgrade pip' command.\u001b[0m\r\n",
      "keras-mxnet==1.2.2.1\r\n",
      "mxnet-cu90mkl==1.3.0.post0\r\n",
      "mxnet-model-server==0.3\r\n"
     ]
    }
   ],
   "source": [
    "!(source activate mxnet_p36 && pip freeze | grep mxnet)"
   ]
  },
  {
   "cell_type": "markdown",
   "metadata": {},
   "source": [
    "### And `upgrade` it"
   ]
  },
  {
   "cell_type": "code",
   "execution_count": 2,
   "metadata": {},
   "outputs": [
    {
     "name": "stdout",
     "output_type": "stream",
     "text": [
      "Collecting mxnet-cu90mkl\n",
      "\u001b[?25l  Downloading https://files.pythonhosted.org/packages/52/8b/3f9cfe199e592b0723617e5d1919b83022f05cc359bd1885f7d1e9ce4758/mxnet_cu90mkl-1.3.0.post0-py2.py3-none-manylinux1_x86_64.whl (428.4MB)\n",
      "\u001b[K    100% |████████████████████████████████| 428.4MB 120kB/s eta 0:00:01    50% |████████████████                | 215.4MB 45.3MB/s eta 0:00:05    69% |██████████████████████          | 296.0MB 21.1MB/s eta 0:00:07    71% |███████████████████████         | 306.9MB 57.2MB/s eta 0:00:03\n",
      "\u001b[?25hRequirement not upgraded as not directly required: graphviz<0.9.0,>=0.8.1 in /home/ec2-user/anaconda3/envs/mxnet_p36/lib/python3.6/site-packages (from mxnet-cu90mkl) (0.8.1)\n",
      "Requirement not upgraded as not directly required: requests<2.19.0,>=2.18.4 in /home/ec2-user/anaconda3/envs/mxnet_p36/lib/python3.6/site-packages (from mxnet-cu90mkl) (2.18.4)\n",
      "Requirement not upgraded as not directly required: numpy<1.15.0,>=1.8.2 in /home/ec2-user/anaconda3/envs/mxnet_p36/lib/python3.6/site-packages (from mxnet-cu90mkl) (1.13.3)\n",
      "Requirement not upgraded as not directly required: chardet<3.1.0,>=3.0.2 in /home/ec2-user/anaconda3/envs/mxnet_p36/lib/python3.6/site-packages (from requests<2.19.0,>=2.18.4->mxnet-cu90mkl) (3.0.4)\n",
      "Requirement not upgraded as not directly required: idna<2.7,>=2.5 in /home/ec2-user/anaconda3/envs/mxnet_p36/lib/python3.6/site-packages (from requests<2.19.0,>=2.18.4->mxnet-cu90mkl) (2.6)\n",
      "Requirement not upgraded as not directly required: urllib3<1.23,>=1.21.1 in /home/ec2-user/anaconda3/envs/mxnet_p36/lib/python3.6/site-packages (from requests<2.19.0,>=2.18.4->mxnet-cu90mkl) (1.22)\n",
      "Requirement not upgraded as not directly required: certifi>=2017.4.17 in /home/ec2-user/anaconda3/envs/mxnet_p36/lib/python3.6/site-packages (from requests<2.19.0,>=2.18.4->mxnet-cu90mkl) (2018.8.24)\n",
      "\u001b[31mmxnet-model-server 0.3 requires fasteners, which is not installed.\u001b[0m\n",
      "\u001b[31mmxnet-model-server 0.3 requires importlib2, which is not installed.\u001b[0m\n",
      "\u001b[31mmxnet-model-server 0.3 requires mxnet>=1.1, which is not installed.\u001b[0m\n",
      "\u001b[31mmxnet-model-server 0.3 requires onnx-mxnet>=0.4.2, which is not installed.\u001b[0m\n",
      "\u001b[31mdistributed 1.21.8 requires msgpack, which is not installed.\u001b[0m\n",
      "Installing collected packages: mxnet-cu90mkl\n",
      "  Found existing installation: mxnet-cu90mkl 1.1.0\n",
      "    Uninstalling mxnet-cu90mkl-1.1.0:\n",
      "      Successfully uninstalled mxnet-cu90mkl-1.1.0\n",
      "Successfully installed mxnet-cu90mkl-1.3.0.post0\n",
      "\u001b[33mYou are using pip version 10.0.1, however version 18.0 is available.\n",
      "You should consider upgrading via the 'pip install --upgrade pip' command.\u001b[0m\n"
     ]
    }
   ],
   "source": [
    "!(source activate mxnet_p36 && pip install --upgrade mxnet-cu90mkl)"
   ]
  },
  {
   "cell_type": "markdown",
   "metadata": {},
   "source": [
    "### After restarting the jupyter kernel, check version"
   ]
  },
  {
   "cell_type": "code",
   "execution_count": 3,
   "metadata": {},
   "outputs": [
    {
     "data": {
      "text/plain": [
       "'1.3.0'"
      ]
     },
     "execution_count": 3,
     "metadata": {},
     "output_type": "execute_result"
    }
   ],
   "source": [
    "import mxnet as mx\n",
    "mx.__version__"
   ]
  }
 ],
 "metadata": {
  "kernelspec": {
   "display_name": "conda_mxnet_p36",
   "language": "python",
   "name": "conda_mxnet_p36"
  },
  "language_info": {
   "codemirror_mode": {
    "name": "ipython",
    "version": 3
   },
   "file_extension": ".py",
   "mimetype": "text/x-python",
   "name": "python",
   "nbconvert_exporter": "python",
   "pygments_lexer": "ipython3",
   "version": "3.6.5"
  }
 },
 "nbformat": 4,
 "nbformat_minor": 2
}
